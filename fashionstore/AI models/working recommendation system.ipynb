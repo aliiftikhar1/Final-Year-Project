{
 "cells": [
  {
   "cell_type": "code",
   "execution_count": 6,
   "id": "8d222f76",
   "metadata": {},
   "outputs": [
    {
     "name": "stdout",
     "output_type": "stream",
     "text": [
      "Accuracy: 0.0\n"
     ]
    }
   ],
   "source": [
    "# Import necessary libraries\n",
    "import pandas as pd\n",
    "from sklearn.model_selection import train_test_split\n",
    "from sklearn.ensemble import RandomForestClassifier\n",
    "from sklearn.preprocessing import OneHotEncoder\n",
    "from sklearn.metrics import accuracy_score\n",
    "from sklearn.compose import ColumnTransformer\n",
    "from sklearn.pipeline import Pipeline\n",
    "\n",
    "# Load the dataset\n",
    "data = pd.read_csv('your_dataset.csv')\n",
    "\n",
    "# Convert target variable to categorical\n",
    "data['Item Purchased'] = data['Item Purchased'].astype('category')\n",
    "\n",
    "# Split features and target variable\n",
    "X = data[['Age', 'Gender', 'Location', 'Season']]\n",
    "y = data['Item Purchased']\n",
    "\n",
    "# Split the data into training and testing sets\n",
    "X_train, X_test, y_train, y_test = train_test_split(X, y, test_size=0.2, random_state=42)\n",
    "\n",
    "# Define preprocessing steps for categorical variables\n",
    "categorical_cols = ['Gender', 'Location', 'Season']\n",
    "preprocessor = ColumnTransformer(\n",
    "    transformers=[\n",
    "        ('cat', OneHotEncoder(), categorical_cols)\n",
    "    ])\n",
    "\n",
    "# Define the model\n",
    "model = RandomForestClassifier(n_estimators=1000, random_state=42)\n",
    "\n",
    "# Create a pipeline\n",
    "pipeline = Pipeline(steps=[('preprocessor', preprocessor),\n",
    "                           ('model', model)])\n",
    "\n",
    "# Train the model\n",
    "pipeline.fit(X_train, y_train)\n",
    "\n",
    "# Make predictions (probabilities)\n",
    "y_probs = pipeline.predict_proba(X_test)\n",
    "\n",
    "# Evaluate the model\n",
    "accuracy = accuracy_score(y_test, y_probs.argmax(axis=1))\n",
    "print(\"Accuracy:\", accuracy)\n",
    "\n",
    "\n",
    "# Import joblib\n",
    "import joblib\n",
    "\n",
    "# Train the model\n",
    "pipeline.fit(X_train, y_train)\n",
    "\n",
    "# Save the model to a file\n",
    "joblib.dump(pipeline, 'model.pkl')\n",
    "\n",
    "# Load the model from the file\n",
    "loaded_model = joblib.load('model.pkl')\n",
    "\n",
    "# Get top 10 recommended items for a new input\n",
    "def get_top_10_recommendations(new_input):\n",
    "    # Transform the new input using the preprocessor\n",
    "    new_input_transformed = preprocessor.transform(new_input)\n",
    "    \n",
    "    # Check missing columns and add them if necessary\n",
    "    missing_cols = set(pipeline.named_steps['preprocessor'].get_feature_names_out()) - set(new_input.columns)\n",
    "    if missing_cols:\n",
    "        for col in missing_cols:\n",
    "            new_input[col] = 0\n",
    "    \n",
    "    # Reorder columns to match the order in the training data\n",
    "    new_input_transformed = new_input[new_input.columns.tolist()]\n",
    "    \n",
    "    # Predict probabilities for the new input\n",
    "    new_input_probs = pipeline.predict_proba(new_input_transformed)\n",
    "    \n",
    "    # Get the indices of top 10 probabilities\n",
    "    top_10_indices = new_input_probs.argsort()[0][-10:][::-1]\n",
    "    \n",
    "    # Get the corresponding item labels\n",
    "    top_10_items = pipeline.classes_[top_10_indices]\n",
    "    \n",
    "    return top_10_items\n",
    "\n"
   ]
  },
  {
   "cell_type": "code",
   "execution_count": 7,
   "id": "d5c839c5",
   "metadata": {},
   "outputs": [
    {
     "name": "stdout",
     "output_type": "stream",
     "text": [
      "Top 10 Recommendations: ['Skirt' 'Hoodie' 'Sandals' 'Sneakers' 'Boots' 'Scarf' 'Shorts' 'Coat'\n",
      " 'Pants' 'Shirt']\n"
     ]
    }
   ],
   "source": [
    "# Example of getting recommendations for a new input\n",
    "new_input = pd.DataFrame({'Age': [50],\n",
    "                          'Gender': ['Female'],\n",
    "                          'Location': ['California'],\n",
    "                          'Season': ['Spring']})\n",
    "\n",
    "recommendations = get_top_10_recommendations(new_input)\n",
    "print(\"Top 10 Recommendations:\", recommendations)\n"
   ]
  }
 ],
 "metadata": {
  "kernelspec": {
   "display_name": "Python 3 (ipykernel)",
   "language": "python",
   "name": "python3"
  },
  "language_info": {
   "codemirror_mode": {
    "name": "ipython",
    "version": 3
   },
   "file_extension": ".py",
   "mimetype": "text/x-python",
   "name": "python",
   "nbconvert_exporter": "python",
   "pygments_lexer": "ipython3",
   "version": "3.11.5"
  }
 },
 "nbformat": 4,
 "nbformat_minor": 5
}

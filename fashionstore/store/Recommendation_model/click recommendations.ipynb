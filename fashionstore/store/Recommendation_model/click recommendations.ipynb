{
 "cells": [
  {
   "cell_type": "code",
   "execution_count": 1,
   "id": "7c5ced77",
   "metadata": {},
   "outputs": [],
   "source": [
    "import pandas as pd\n",
    "from sklearn.feature_extraction.text import TfidfVectorizer\n",
    "from sklearn.metrics.pairwise import linear_kernel\n",
    "\n",
    "# Load the dataset\n",
    "df = pd.read_csv(\"dataset.csv\")\n",
    "\n",
    "# Define the columns to use for content-based recommendations\n",
    "content_cols = ['Category', 'Size', 'Color', 'Season']\n",
    "\n",
    "# Combine the selected columns into a single feature\n",
    "df['content'] = df[content_cols].apply(lambda x: ' '.join(x), axis=1)\n",
    "\n",
    "# Initialize the TfidfVectorizer\n",
    "tfidf = TfidfVectorizer(stop_words='english')\n",
    "\n",
    "# Fit and transform the content feature\n",
    "tfidf_matrix = tfidf.fit_transform(df['content'])\n",
    "\n",
    "# Compute the cosine similarity matrix\n",
    "cosine_sim = linear_kernel(tfidf_matrix, tfidf_matrix)\n",
    "\n",
    "# Import joblib\n",
    "import joblib\n",
    "\n",
    "\n",
    "# Save the model to a file\n",
    "joblib.dump(cosine_sim, 'clickrecommendation.pkl')\n",
    "\n",
    "# Load the model from the file\n",
    "loaded_model = joblib.load('clickrecommendation.pkl')\n",
    "\n",
    "# Function to get recommendations based on item name\n"
   ]
  },
  {
   "cell_type": "code",
   "execution_count": 4,
   "id": "d1db7189",
   "metadata": {},
   "outputs": [
    {
     "name": "stdout",
     "output_type": "stream",
     "text": [
      "Recommendations for Blouse :\n",
      "['Sweater', 'Jeans', 'Dress', 'Shorts']\n"
     ]
    }
   ],
   "source": [
    "def get_recommendations(item_name, cosine_sim=cosine_sim):\n",
    "    # Get the index of the item that matches the name\n",
    "    idx = df[df['Item Purchased'] == item_name].index[0]\n",
    "\n",
    "    # Get the pairwise similarity scores of all items with that item\n",
    "    sim_scores = list(enumerate(cosine_sim[idx]))\n",
    "\n",
    "    # Sort the items based on the similarity scores\n",
    "    sim_scores = sorted(sim_scores, key=lambda x: x[1], reverse=True)\n",
    "\n",
    "    # Get the top 5 most similar items\n",
    "    sim_scores = sim_scores[1:6]\n",
    "\n",
    "    # Get the item indices\n",
    "    item_indices = [i[0] for i in sim_scores]\n",
    "\n",
    "    # Return the top 5 most similar items\n",
    "    return df.iloc[item_indices]['Item Purchased'].unique().tolist()\n",
    "\n",
    "# Example usage:\n",
    "item_name = 'Blouse'\n",
    "recommendations = get_recommendations(item_name)\n",
    "print(\"Recommendations for\", item_name, \":\")\n",
    "print(recommendations)"
   ]
  },
  {
   "cell_type": "code",
   "execution_count": null,
   "id": "967ed2ec",
   "metadata": {},
   "outputs": [],
   "source": []
  }
 ],
 "metadata": {
  "kernelspec": {
   "display_name": "Python 3 (ipykernel)",
   "language": "python",
   "name": "python3"
  },
  "language_info": {
   "codemirror_mode": {
    "name": "ipython",
    "version": 3
   },
   "file_extension": ".py",
   "mimetype": "text/x-python",
   "name": "python",
   "nbconvert_exporter": "python",
   "pygments_lexer": "ipython3",
   "version": "3.12.2"
  }
 },
 "nbformat": 4,
 "nbformat_minor": 5
}
